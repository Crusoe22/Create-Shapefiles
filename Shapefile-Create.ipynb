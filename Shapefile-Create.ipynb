{
 "cells": [
  {
   "cell_type": "markdown",
   "metadata": {},
   "source": [
    "# Python Notebook to create shapefiles\n",
    "###### This is set up to update the infowater map on the engineering computer"
   ]
  },
  {
   "cell_type": "code",
   "execution_count": 86,
   "metadata": {},
   "outputs": [],
   "source": [
    "import arcpy\n",
    "import os"
   ]
  },
  {
   "cell_type": "markdown",
   "metadata": {},
   "source": [
    "###### Set work space environments"
   ]
  },
  {
   "cell_type": "code",
   "execution_count": 87,
   "metadata": {},
   "outputs": [],
   "source": [
    "# Set the workspace where the feature classes are located\n",
    "arcpy.env.workspace = r\"C:\\Users\\Nolan\\Documents\\ArcGIS\\ArcGIS Pro Projects\\DateDelete\\DateCleanUpDelete\\GISDBSERVER22.sde\" \n",
    "\n",
    "# List of feature class names to export\n",
    "feature_classes = [\"HUD_LGIM.DBO.wControlValve\", \"HUD_LGIM.DBO.wHydrant\", \"HUD_LGIM.DBO.wMain\", \"HUD_LGIM.DBO.wServiceConnection\"] \n",
    "\n",
    "# Set the output folder for shapefiles\n",
    "output_shapefile = r\"C:\\Users\\Nolan\\Documents\\Shapefiles\\infowater-shp-updates\""
   ]
  },
  {
   "cell_type": "markdown",
   "metadata": {},
   "source": [
    "###### Run code "
   ]
  },
  {
   "cell_type": "code",
   "execution_count": 88,
   "metadata": {},
   "outputs": [
    {
     "name": "stdout",
     "output_type": "stream",
     "text": [
      "Feature class exported to shapefile successfully.\n",
      "Feature class exported to shapefile successfully.\n",
      "Feature class exported to shapefile successfully.\n",
      "Feature class exported to shapefile successfully.\n"
     ]
    }
   ],
   "source": [
    "try:\n",
    "    # Iterate over each feature class in list called feature_classes\n",
    "    for fc in feature_classes:\n",
    "        # Check if the feature class exists\n",
    "        if arcpy.Exists(fc):\n",
    "            # Export the feature class to a shapefile using arcpy function\n",
    "            arcpy.FeatureClassToShapefile_conversion(fc, output_shapefile)\n",
    "            print(\"Feature class exported to shapefile successfully.\")\n",
    "        else:\n",
    "            print(\"Feature class does not exist.\")\n",
    "\n",
    "except arcpy.ExecuteError:\n",
    "    print(arcpy.GetMessages())\n",
    "except Exception as e:\n",
    "    print(e)"
   ]
  },
  {
   "cell_type": "code",
   "execution_count": null,
   "metadata": {},
   "outputs": [],
   "source": []
  }
 ],
 "metadata": {
  "kernelspec": {
   "display_name": "ArcGISPro",
   "language": "Python",
   "name": "python3"
  },
  "language_info": {
   "file_extension": ".py",
   "name": "python",
   "version": "3"
  }
 },
 "nbformat": 4,
 "nbformat_minor": 2
}
